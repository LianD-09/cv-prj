{
 "cells": [
  {
   "cell_type": "code",
   "execution_count": 1,
   "metadata": {},
   "outputs": [],
   "source": [
    "import cv2\n",
    "import os\n",
    "\n",
    "video_path = 'traffic_25fps.mp4'\n",
    "output_folder = 'frames/'\n",
    "\n",
    "# Create output folder if it doesn't exist\n",
    "os.makedirs(output_folder, exist_ok=True)\n",
    "\n",
    "cap = cv2.VideoCapture(video_path)\n",
    "frame_count = 0\n",
    "\n",
    "while cap.isOpened():\n",
    "    ret, frame = cap.read()\n",
    "    if not ret:\n",
    "        break\n",
    "    cv2.imwrite(f'{output_folder}/frame_{frame_count:04d}.png', frame)\n",
    "    frame_count += 1\n",
    "\n",
    "cap.release()\n"
   ]
  },
  {
   "cell_type": "code",
   "execution_count": 2,
   "metadata": {},
   "outputs": [],
   "source": [
    "from skimage import io, color\n",
    "from skimage.filters import gaussian\n",
    "from skimage.segmentation import active_contour\n",
    "import numpy as np\n",
    "import matplotlib.pyplot as plt\n",
    "\n",
    "# Load a sample frame\n",
    "image = io.imread('frames/frame_0000.png')\n",
    "gray_image = color.rgb2gray(image)\n",
    "\n",
    "# Gaussian smoothing\n",
    "smooth_image = gaussian(gray_image, sigma=3)\n",
    "\n",
    "# Initialize the snake\n",
    "s = np.linspace(0, 2*np.pi, 400)\n",
    "x = 120 + 100*np.cos(s)\n",
    "y = 250 + 100*np.sin(s)\n",
    "init = np.array([y, x]).T\n",
    "\n",
    "# Run Active Contour Model\n",
    "snake = active_contour(smooth_image, init, alpha=0.001, beta=0.01, gamma=0.001)\n",
    "\n",
    "# Plot the result\n",
    "# fig, ax = plt.subplots(figsize=(7, 7))\n",
    "# ax.imshow(gray_image, cmap=plt.cm.gray)\n",
    "# ax.plot(init[:, 1], init[:, 0], '--r', lw=3)\n",
    "# ax.plot(snake[:, 1], snake[:, 0], '-b', lw=3)\n",
    "# ax.set_title('Active Contour Model')\n",
    "# plt.show()\n"
   ]
  },
  {
   "cell_type": "code",
   "execution_count": 3,
   "metadata": {},
   "outputs": [],
   "source": [
    "frame_files = sorted([f for f in os.listdir(output_folder) if f.endswith('.png')])\n",
    "\n",
    "for frame_file in frame_files:\n",
    "    image = io.imread(f'{output_folder}/{frame_file}')\n",
    "    gray_image = color.rgb2gray(image)\n",
    "    smooth_image = gaussian(gray_image, sigma=3)\n",
    "    snake = active_contour(smooth_image, init, alpha=0.001, beta=0.005, gamma=0.001)\n",
    "    \n",
    "    fig, ax = plt.subplots(figsize=(7, 7))\n",
    "    ax.imshow(gray_image, cmap=plt.cm.gray)\n",
    "    ax.plot(init[:, 1], init[:, 0], '--r', lw=3)\n",
    "    ax.plot(snake[:, 1], snake[:, 0], '-b', lw=3)\n",
    "    ax.set_xticks([]), ax.set_yticks([])\n",
    "    ax.set_title(f'Active Contour Model - {frame_file}')\n",
    "    plt.savefig(f'output/{frame_file}')\n",
    "    plt.close()\n",
    "    \n",
    "    init = snake # Update the initial contour for the next frame\n"
   ]
  },
  {
   "cell_type": "code",
   "execution_count": 4,
   "metadata": {},
   "outputs": [],
   "source": [
    "\n",
    "output_folder = 'output/'\n",
    "output_video_path = 'segmented_video.mp4'\n",
    "frame_rate = 30\n",
    "\n",
    "frame_files = sorted([f for f in os.listdir(output_folder) if f.endswith('.png')])\n",
    "frame = cv2.imread(os.path.join(output_folder, frame_files[0]))\n",
    "height, width, layers = frame.shape\n",
    "\n",
    "video = cv2.VideoWriter(output_video_path, cv2.VideoWriter_fourcc(*'mp4v'), frame_rate, (width, height))\n",
    "\n",
    "for frame_file in frame_files:\n",
    "    frame = cv2.imread(os.path.join(output_folder, frame_file))\n",
    "    video.write(frame)\n",
    "\n",
    "video.release()\n"
   ]
  }
 ],
 "metadata": {
  "kernelspec": {
   "display_name": "Python 3",
   "language": "python",
   "name": "python3"
  },
  "language_info": {
   "codemirror_mode": {
    "name": "ipython",
    "version": 3
   },
   "file_extension": ".py",
   "mimetype": "text/x-python",
   "name": "python",
   "nbconvert_exporter": "python",
   "pygments_lexer": "ipython3",
   "version": "3.11.9"
  }
 },
 "nbformat": 4,
 "nbformat_minor": 2
}
